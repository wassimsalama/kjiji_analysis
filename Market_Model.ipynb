{
 "cells": [
  {
   "cell_type": "code",
   "execution_count": 2,
   "metadata": {},
   "outputs": [],
   "source": [
    "from bs4 import BeautifulSoup\n",
    "import requests\n",
    "import pandas as pd\n",
    "import csv\n",
    "import numpy as np\n",
    "from sklearn.model_selection import train_test_split\n",
    "import seaborn as sns\n",
    "sns.set_style(\"white\")\n",
    "import matplotlib.patches as mpatches\n",
    "import matplotlib.pyplot as plt\n",
    "from pylab import rcParams\n",
    "%matplotlib inline"
   ]
  },
  {
   "cell_type": "code",
   "execution_count": 57,
   "metadata": {},
   "outputs": [],
   "source": [
    "def get_ads_urls():\n",
    "    \n",
    "    urls_list = []\n",
    "    # define the basic url to crawl on\n",
    "    basic_url = \"https://www.kijiji.ca/b-house-for-sale/ontario/c35l9004\"\n",
    "    \n",
    "    # loop over the paginated urls\n",
    "    \n",
    "    #We prepared an output file that took an hour to process. use the output file attached with the project\n",
    "    \n",
    "    for i in range(2):     #To increase accuracy increase the range \n",
    "                            #Increasing range increase the wait time\n",
    "                            #If you dont want to wait run the fist block in Preprocessing & Cleansing\n",
    "        # get the page url\n",
    "        url = basic_url+str(i)\n",
    "        \n",
    "        # get the request response\n",
    "        r  = requests.get(url)\n",
    "        data = r.text\n",
    "        \n",
    "        # transform it to bs object\n",
    "        soup = BeautifulSoup(data, \"lxml\")\n",
    "        \n",
    "        # loop over page links \n",
    "        for section in soup.findAll('section'):\n",
    "            a = section.findAll('a')[0] \n",
    "            if (a.get('href')).find(\"/vip/\") == -1:\n",
    "                urls_list.append('https://www.kijiji.ca' + a.get('href'))\n",
    "\n",
    "    \n",
    "    df = pd.DataFrame(data={\"url\": urls_list})\n",
    "    df.to_csv(\"ads_urls.csv\", sep=',',index=False)\n"
   ]
  },
  {
   "cell_type": "code",
   "execution_count": 58,
   "metadata": {},
   "outputs": [],
   "source": [
    "get_ads_urls()"
   ]
  },
  {
   "cell_type": "code",
   "execution_count": null,
   "metadata": {},
   "outputs": [],
   "source": [
    "def scrapData(ad_url):\n",
    "    r = requests.get(ad_url)\n",
    "    data = r.text\n",
    "    soup = BeautifulSoup(data, \"html.parser\")\n",
    "    target_component = soup.findAll(\"span\", itemprop=\"name\")\n",
    "    price = soup.findAll(\"span\", {'class': 'currentPrice-441857624'})\n",
    "    bedRoom = soup.findAll(\"dd\", {'class': 'attributeValue-2574930263'})\n",
    "    # create a list that will hold our component data\n",
    "    results = []\n",
    "    \n",
    "    for i in target_component:\n",
    "        results.append(''.join(i.findAll(text=True)).replace('\\n',''))\n",
    "    for i in bedRoom:\n",
    "        results.append(''.join(i.findAll(text=True)).replace('\\n',''))\n",
    "    for i in price:\n",
    "        results.append(''.join(i.findAll(text=True)).replace('\\n',''))\n",
    "    \n",
    "    return results"
   ]
  },
  {
   "cell_type": "code",
   "execution_count": null,
   "metadata": {},
   "outputs": [],
   "source": [
    "def dataToCSV(data):\n",
    "    with open(\"output.csv\", \"w\") as f:\n",
    "        writer = csv.writer(f)\n",
    "        writer.writerows(data)"
   ]
  },
  {
   "cell_type": "code",
   "execution_count": null,
   "metadata": {},
   "outputs": [
    {
     "name": "stdout",
     "output_type": "stream",
     "text": [
      "Scrapping data finished\n"
     ]
    }
   ],
   "source": [
    " #read the saved urls file as a dataframe \n",
    "urls_data = pd.read_csv(\"ads_urls.csv\")\n",
    "\n",
    "# create  a list that will hold the final data\n",
    "final_result = []\n",
    "i = 1\n",
    "\n",
    "# loop over the dataframe\n",
    "for index, row in urls_data.iterrows():\n",
    "    final_result.append(scrapData(row['url']))\n",
    "\n",
    "print('Scrapping data finished')\n",
    "\n",
    "# now that we have all the data we can write it in a csv file\n",
    "# dataToCSV(final_result)"
   ]
  },
  {
   "cell_type": "code",
   "execution_count": null,
   "metadata": {},
   "outputs": [
    {
     "data": {
      "text/html": [
       "<div>\n",
       "<style scoped>\n",
       "    .dataframe tbody tr th:only-of-type {\n",
       "        vertical-align: middle;\n",
       "    }\n",
       "\n",
       "    .dataframe tbody tr th {\n",
       "        vertical-align: top;\n",
       "    }\n",
       "\n",
       "    .dataframe thead th {\n",
       "        text-align: right;\n",
       "    }\n",
       "</style>\n",
       "<table border=\"1\" class=\"dataframe\">\n",
       "  <thead>\n",
       "    <tr style=\"text-align: right;\">\n",
       "      <th></th>\n",
       "      <th>Province</th>\n",
       "      <th>City</th>\n",
       "      <th>Area</th>\n",
       "      <th>Type</th>\n",
       "      <th>Sale/Rent</th>\n",
       "      <th>Type1</th>\n",
       "      <th>Bedroom</th>\n",
       "      <th>Bathroom</th>\n",
       "      <th>SqFt</th>\n",
       "      <th>Price</th>\n",
       "    </tr>\n",
       "  </thead>\n",
       "  <tbody>\n",
       "  </tbody>\n",
       "</table>\n",
       "</div>"
      ],
      "text/plain": [
       "Empty DataFrame\n",
       "Columns: [Province, City, Area, Type, Sale/Rent, Type1, Bedroom, Bathroom, SqFt, Price]\n",
       "Index: []"
      ]
     },
     "execution_count": 34,
     "metadata": {},
     "output_type": "execute_result"
    }
   ],
   "source": [
    "# set the column names\n",
    "#Prov, City, Type, Sale/Rent, Type1, bedroom, bathroom, sqft, price\n",
    "# Ontario,Toronto (GTA),Markham / York Region,Real Estate,For Sale,Condos for Sale in Markham / York Region,1 bedroom and den,1 bathroom,\"$450,000.00\"\n",
    "\n",
    "colnames=['Province', 'City', 'Area', 'Type', 'Sale/Rent', 'Type1', 'Bedroom', 'Bathroom', 'SqFt','Price'] \n",
    "\n",
    "# read the csv file as a dataframe\n",
    "df = pd.read_csv(\"output.csv\", sep=\",\", names=colnames, header=None)\n",
    "\n",
    "# let's get some simple vision on our dataset\n",
    "df.head()"
   ]
  },
  {
   "cell_type": "code",
   "execution_count": null,
   "metadata": {},
   "outputs": [],
   "source": [
    "df = df.drop(columns=['Province', 'Area', 'Type', 'Sale/Rent', 'Type1'])\n",
    "#df = df.dropna(subset = ['Price', 'Bedroom', 'Bathroom', 'SqFt'])\n",
    "\n",
    "df['Bedroom'] = df['Bedroom'].str.replace('bedrooms', '')\n",
    "df['Bedroom'] = df['Bedroom'].str.replace('bedroom', '')\n",
    "df['Bedroom'] = df['Bedroom'].str.replace('and', '')\n",
    "df['Bedroom'] = df['Bedroom'].str.replace('den', '')\n",
    "df['Bedroom'] = df['Bedroom'].str.replace(' ', '')\n",
    "df['Bathroom'] = df['Bathroom'].str.replace('bathrooms', '')\n",
    "df['Bathroom'] = df['Bathroom'].str.replace('bathroom', '')\n",
    "\n",
    "\n",
    "df['SqFt'] = df['SqFt'].str.replace(',', '')\n",
    "df['SqFt'] = df['SqFt'].str.replace(' ', '')\n",
    "\n",
    "df.Bedroom = pd.to_numeric(df.Bedroom, errors = 'coerce', downcast = 'integer')\n",
    "df.Bathroom = pd.to_numeric(df.Bathroom, errors = 'coerce', downcast = 'integer')\n",
    "df.SqFt = pd.to_numeric(df.SqFt, errors = 'coerce', downcast = 'integer')\n",
    "#df = df.dropna(subset = ['SqFt'])"
   ]
  },
  {
   "cell_type": "code",
   "execution_count": null,
   "metadata": {},
   "outputs": [
    {
     "data": {
      "text/html": [
       "<div>\n",
       "<style scoped>\n",
       "    .dataframe tbody tr th:only-of-type {\n",
       "        vertical-align: middle;\n",
       "    }\n",
       "\n",
       "    .dataframe tbody tr th {\n",
       "        vertical-align: top;\n",
       "    }\n",
       "\n",
       "    .dataframe thead th {\n",
       "        text-align: right;\n",
       "    }\n",
       "</style>\n",
       "<table border=\"1\" class=\"dataframe\">\n",
       "  <thead>\n",
       "    <tr style=\"text-align: right;\">\n",
       "      <th></th>\n",
       "      <th>City</th>\n",
       "      <th>Bedroom</th>\n",
       "      <th>Bathroom</th>\n",
       "      <th>SqFt</th>\n",
       "      <th>Price</th>\n",
       "    </tr>\n",
       "  </thead>\n",
       "  <tbody>\n",
       "  </tbody>\n",
       "</table>\n",
       "</div>"
      ],
      "text/plain": [
       "Empty DataFrame\n",
       "Columns: [City, Bedroom, Bathroom, SqFt, Price]\n",
       "Index: []"
      ]
     },
     "execution_count": 36,
     "metadata": {},
     "output_type": "execute_result"
    }
   ],
   "source": [
    "df.Price = df.Price.str.replace(',','')\n",
    "df.Price = df.Price.str.replace(' ','')\n",
    "df.Price = df.Price.str.replace('$','')\n",
    "df.Price = pd.to_numeric(df.Price, errors = 'coerce', downcast = 'integer')\n",
    "df.head()"
   ]
  },
  {
   "cell_type": "code",
   "execution_count": null,
   "metadata": {},
   "outputs": [],
   "source": [
    "df.fillna(df.mean(), inplace=True)"
   ]
  },
  {
   "cell_type": "code",
   "execution_count": null,
   "metadata": {},
   "outputs": [
    {
     "data": {
      "text/html": [
       "<div>\n",
       "<style scoped>\n",
       "    .dataframe tbody tr th:only-of-type {\n",
       "        vertical-align: middle;\n",
       "    }\n",
       "\n",
       "    .dataframe tbody tr th {\n",
       "        vertical-align: top;\n",
       "    }\n",
       "\n",
       "    .dataframe thead th {\n",
       "        text-align: right;\n",
       "    }\n",
       "</style>\n",
       "<table border=\"1\" class=\"dataframe\">\n",
       "  <thead>\n",
       "    <tr style=\"text-align: right;\">\n",
       "      <th></th>\n",
       "      <th>City</th>\n",
       "      <th>Bedroom</th>\n",
       "      <th>Bathroom</th>\n",
       "      <th>SqFt</th>\n",
       "      <th>Price</th>\n",
       "    </tr>\n",
       "  </thead>\n",
       "  <tbody>\n",
       "  </tbody>\n",
       "</table>\n",
       "</div>"
      ],
      "text/plain": [
       "Empty DataFrame\n",
       "Columns: [City, Bedroom, Bathroom, SqFt, Price]\n",
       "Index: []"
      ]
     },
     "execution_count": 38,
     "metadata": {},
     "output_type": "execute_result"
    }
   ],
   "source": [
    "df.head()"
   ]
  },
  {
   "cell_type": "code",
   "execution_count": null,
   "metadata": {},
   "outputs": [
    {
     "data": {
      "image/png": "[encoded data removed]",
      "text/plain": [
       "<Figure size 1500x800 with 1 Axes>"
      ]
     },
     "metadata": {},
     "output_type": "display_data"
    }
   ],
   "source": [
    "# here we set the figure size to 15x8\n",
    "plt.figure(figsize=(15, 8))\n",
    "# plot two values price per year_model\n",
    "plt.scatter(df.Price, df.SqFt)\n",
    "plt.xlabel(\"Price\", fontsize=14)\n",
    "plt.ylabel(\"SqFt\", fontsize=14)\n",
    "plt.title(\"Scatter Plot of Price and SqFT\",fontsize=18)\n",
    "plt.show()"
   ]
  },
  {
   "cell_type": "code",
   "execution_count": null,
   "metadata": {},
   "outputs": [
    {
     "data": {
      "image/png": "[encoded data removed]",
      "text/plain": [
       "<Figure size 1500x1200 with 1 Axes>"
      ]
     },
     "metadata": {},
     "output_type": "display_data"
    }
   ],
   "source": [
    "f, ax = plt.subplots(figsize=(15, 12))\n",
    "sns.stripplot(data = df, x='Price', y='Bedroom', jitter=.1, orient='h')\n",
    "plt.show()"
   ]
  },
  {
   "cell_type": "code",
   "execution_count": null,
   "metadata": {},
   "outputs": [
    {
     "data": {
      "image/png": "[encoded data removed]",
      "text/plain": [
       "<Figure size 1500x800 with 1 Axes>"
      ]
     },
     "metadata": {},
     "output_type": "display_data"
    }
   ],
   "source": [
    "plt.figure(figsize=(15, 8))\n",
    "# plot two values price per year_model\n",
    "plt.scatter(df.Price, df.Bathroom, c='orange', marker='x')\n",
    "plt.xlabel(\"Price\", fontsize=14)\n",
    "plt.ylabel(\"# Bathrooms\", fontsize=14)\n",
    "plt.title(\"Scatter plot of price and # Bathrooms\",fontsize=18)\n",
    "plt.show()"
   ]
  },
  {
   "cell_type": "code",
   "execution_count": null,
   "metadata": {},
   "outputs": [
    {
     "name": "stdout",
     "output_type": "stream",
     "text": [
      "The number of unique cities are:  0\n"
     ]
    }
   ],
   "source": [
    "print('The number of unique cities are: ',len(df.City.unique()))"
   ]
  },
  {
   "cell_type": "code",
   "execution_count": null,
   "metadata": {},
   "outputs": [
    {
     "ename": "IndexError",
     "evalue": "index 0 is out of bounds for axis 0 with size 0",
     "output_type": "error",
     "traceback": [
      "\u001b[0;31m---------------------------------------------------------------------------\u001b[0m",
      "\u001b[0;31mIndexError\u001b[0m                                Traceback (most recent call last)",
      "Cell \u001b[0;32mIn[43], line 2\u001b[0m\n\u001b[1;32m      1\u001b[0m plt\u001b[38;5;241m.\u001b[39mfigure(figsize\u001b[38;5;241m=\u001b[39m(\u001b[38;5;241m17\u001b[39m,\u001b[38;5;241m8\u001b[39m))\n\u001b[0;32m----> 2\u001b[0m \u001b[43mdf\u001b[49m\u001b[38;5;241;43m.\u001b[39;49m\u001b[43mCity\u001b[49m\u001b[38;5;241;43m.\u001b[39;49m\u001b[43mvalue_counts\u001b[49m\u001b[43m(\u001b[49m\u001b[43m)\u001b[49m\u001b[38;5;241;43m.\u001b[39;49m\u001b[43mnlargest\u001b[49m\u001b[43m(\u001b[49m\u001b[38;5;241;43m20\u001b[39;49m\u001b[43m)\u001b[49m\u001b[38;5;241;43m.\u001b[39;49m\u001b[43mplot\u001b[49m\u001b[43m(\u001b[49m\u001b[43mkind\u001b[49m\u001b[38;5;241;43m=\u001b[39;49m\u001b[38;5;124;43m'\u001b[39;49m\u001b[38;5;124;43mbarh\u001b[39;49m\u001b[38;5;124;43m'\u001b[39;49m\u001b[43m)\u001b[49m\n\u001b[1;32m      3\u001b[0m plt\u001b[38;5;241m.\u001b[39mxlabel(\u001b[38;5;124m'\u001b[39m\u001b[38;5;124mCity Frequency\u001b[39m\u001b[38;5;124m'\u001b[39m)\n\u001b[1;32m      4\u001b[0m plt\u001b[38;5;241m.\u001b[39mtitle(\u001b[38;5;124m\"\u001b[39m\u001b[38;5;124mFrequency of TOP 20 Brand distribution\u001b[39m\u001b[38;5;124m\"\u001b[39m,fontsize\u001b[38;5;241m=\u001b[39m\u001b[38;5;241m18\u001b[39m)\n",
      "File \u001b[0;32m/Library/Frameworks/Python.framework/Versions/3.11/lib/python3.11/site-packages/pandas/plotting/_core.py:1031\u001b[0m, in \u001b[0;36mPlotAccessor.__call__\u001b[0;34m(self, *args, **kwargs)\u001b[0m\n\u001b[1;32m   1028\u001b[0m             label_name \u001b[39m=\u001b[39m label_kw \u001b[39mor\u001b[39;00m data\u001b[39m.\u001b[39mcolumns\n\u001b[1;32m   1029\u001b[0m             data\u001b[39m.\u001b[39mcolumns \u001b[39m=\u001b[39m label_name\n\u001b[0;32m-> 1031\u001b[0m \u001b[39mreturn\u001b[39;00m plot_backend\u001b[39m.\u001b[39;49mplot(data, kind\u001b[39m=\u001b[39;49mkind, \u001b[39m*\u001b[39;49m\u001b[39m*\u001b[39;49mkwargs)\n",
      "File \u001b[0;32m/Library/Frameworks/Python.framework/Versions/3.11/lib/python3.11/site-packages/pandas/plotting/_matplotlib/__init__.py:71\u001b[0m, in \u001b[0;36mplot\u001b[0;34m(data, kind, **kwargs)\u001b[0m\n\u001b[1;32m     69\u001b[0m         kwargs[\u001b[39m\"\u001b[39m\u001b[39max\u001b[39m\u001b[39m\"\u001b[39m] \u001b[39m=\u001b[39m \u001b[39mgetattr\u001b[39m(ax, \u001b[39m\"\u001b[39m\u001b[39mleft_ax\u001b[39m\u001b[39m\"\u001b[39m, ax)\n\u001b[1;32m     70\u001b[0m plot_obj \u001b[39m=\u001b[39m PLOT_CLASSES[kind](data, \u001b[39m*\u001b[39m\u001b[39m*\u001b[39mkwargs)\n\u001b[0;32m---> 71\u001b[0m plot_obj\u001b[39m.\u001b[39;49mgenerate()\n\u001b[1;32m     72\u001b[0m plot_obj\u001b[39m.\u001b[39mdraw()\n\u001b[1;32m     73\u001b[0m \u001b[39mreturn\u001b[39;00m plot_obj\u001b[39m.\u001b[39mresult\n",
      "File \u001b[0;32m/Library/Frameworks/Python.framework/Versions/3.11/lib/python3.11/site-packages/pandas/plotting/_matplotlib/core.py:460\u001b[0m, in \u001b[0;36mMPLPlot.generate\u001b[0;34m(self)\u001b[0m\n\u001b[1;32m    458\u001b[0m \u001b[39mfor\u001b[39;00m ax \u001b[39min\u001b[39;00m \u001b[39mself\u001b[39m\u001b[39m.\u001b[39maxes:\n\u001b[1;32m    459\u001b[0m     \u001b[39mself\u001b[39m\u001b[39m.\u001b[39m_post_plot_logic_common(ax, \u001b[39mself\u001b[39m\u001b[39m.\u001b[39mdata)\n\u001b[0;32m--> 460\u001b[0m     \u001b[39mself\u001b[39;49m\u001b[39m.\u001b[39;49m_post_plot_logic(ax, \u001b[39mself\u001b[39;49m\u001b[39m.\u001b[39;49mdata)\n",
      "File \u001b[0;32m/Library/Frameworks/Python.framework/Versions/3.11/lib/python3.11/site-packages/pandas/plotting/_matplotlib/core.py:1757\u001b[0m, in \u001b[0;36mBarPlot._post_plot_logic\u001b[0;34m(self, ax, data)\u001b[0m\n\u001b[1;32m   1754\u001b[0m \u001b[39melse\u001b[39;00m:\n\u001b[1;32m   1755\u001b[0m     str_index \u001b[39m=\u001b[39m [pprint_thing(key) \u001b[39mfor\u001b[39;00m key \u001b[39min\u001b[39;00m \u001b[39mrange\u001b[39m(data\u001b[39m.\u001b[39mshape[\u001b[39m0\u001b[39m])]\n\u001b[0;32m-> 1757\u001b[0m s_edge \u001b[39m=\u001b[39m \u001b[39mself\u001b[39;49m\u001b[39m.\u001b[39;49max_pos[\u001b[39m0\u001b[39;49m] \u001b[39m-\u001b[39m \u001b[39m0.25\u001b[39m \u001b[39m+\u001b[39m \u001b[39mself\u001b[39m\u001b[39m.\u001b[39mlim_offset\n\u001b[1;32m   1758\u001b[0m e_edge \u001b[39m=\u001b[39m \u001b[39mself\u001b[39m\u001b[39m.\u001b[39max_pos[\u001b[39m-\u001b[39m\u001b[39m1\u001b[39m] \u001b[39m+\u001b[39m \u001b[39m0.25\u001b[39m \u001b[39m+\u001b[39m \u001b[39mself\u001b[39m\u001b[39m.\u001b[39mbar_width \u001b[39m+\u001b[39m \u001b[39mself\u001b[39m\u001b[39m.\u001b[39mlim_offset\n\u001b[1;32m   1760\u001b[0m \u001b[39mself\u001b[39m\u001b[39m.\u001b[39m_decorate_ticks(ax, \u001b[39mself\u001b[39m\u001b[39m.\u001b[39m_get_index_name(), str_index, s_edge, e_edge)\n",
      "\u001b[0;31mIndexError\u001b[0m: index 0 is out of bounds for axis 0 with size 0"
     ]
    },
    {
     "data": {
      "image/png": "[encoded data removed]",
      "text/plain": [
       "<Figure size 1700x800 with 1 Axes>"
      ]
     },
     "metadata": {},
     "output_type": "display_data"
    }
   ],
   "source": [
    "plt.figure(figsize=(17,8))\n",
    "df.City.value_counts().nlargest(20).plot(kind='barh')\n",
    "plt.xlabel('City Frequency')\n",
    "plt.title(\"Frequency of TOP 20 Brand distribution\",fontsize=18)\n",
    "plt.show()"
   ]
  },
  {
   "cell_type": "code",
   "execution_count": null,
   "metadata": {},
   "outputs": [],
   "source": [
    "f, ax = plt.subplots(figsize=(10, 40))\n",
    "sns.stripplot(data = df, x='Bathroom', y='Price', jitter=.5, orient='h')\n",
    "plt.show()"
   ]
  },
  {
   "cell_type": "code",
   "execution_count": null,
   "metadata": {},
   "outputs": [],
   "source": [
    "f, ax = plt.subplots(figsize=(8,20))\n",
    "sns.violinplot(data = df, x='Price', y='Bedroom', orient='h')\n",
    "\n",
    "plt.show()"
   ]
  },
  {
   "cell_type": "code",
   "execution_count": null,
   "metadata": {},
   "outputs": [],
   "source": [
    "# Generate a custom diverging colormap\n",
    "cmap = sns.diverging_palette(220, 10, as_cmap=True)\n",
    "# Set up the matplotlib figure\n",
    "f, ax = plt.subplots(figsize=(15, 10))\n",
    "# Compute the correlation matrix\n",
    "corr = df.corr()\n",
    "#print(corr)\n",
    "# Generate a mask for the upper triangle\n",
    "mask = np.zeros_like(corr, dtype=np.bool)\n",
    "mask[np.triu_indices_from(mask)] = True\n",
    "# Draw the heatmap with the mask and correct aspect ratio\n",
    "sns.heatmap(corr, mask=mask, cmap=cmap, vmax=1, center=0,\n",
    "            square=True, linewidths=.5, cbar_kws={\"shrink\": .5})\n",
    "plt.title('Correlation matrix', \n",
    "          fontsize = 20)\n",
    "plt.show()"
   ]
  },
  {
   "cell_type": "code",
   "execution_count": null,
   "metadata": {},
   "outputs": [],
   "source": [
    "plt.figure(figsize=(17,8))\n",
    "df.City.value_counts().nlargest(20).plot(kind='bar')\n",
    "plt.xlabel('City Frequency')\n",
    "plt.title(\"Frequency of TOP 20 city distribution\",fontsize=18)\n",
    "plt.show()"
   ]
  },
  {
   "cell_type": "code",
   "execution_count": null,
   "metadata": {},
   "outputs": [],
   "source": [
    "## create a dataframefor testing\n",
    "data = df[df.Price < 400000]\n",
    "data.head()\n"
   ]
  },
  {
   "cell_type": "code",
   "execution_count": null,
   "metadata": {},
   "outputs": [],
   "source": [
    "print(len(data))\n",
    "print(len(df))"
   ]
  },
  {
   "cell_type": "code",
   "execution_count": null,
   "metadata": {},
   "outputs": [],
   "source": [
    "X = data[['SqFt', 'Bathroom', 'Bedroom', 'City']]\n",
    "Y = data.Price\n",
    "X = pd.get_dummies(data=X)"
   ]
  },
  {
   "cell_type": "code",
   "execution_count": null,
   "metadata": {},
   "outputs": [],
   "source": [
    "X.head()"
   ]
  },
  {
   "cell_type": "code",
   "execution_count": null,
   "metadata": {},
   "outputs": [],
   "source": [
    "X_train, X_test, Y_train, Y_test = train_test_split(X, Y, test_size = .20, random_state = 42)"
   ]
  },
  {
   "cell_type": "code",
   "execution_count": null,
   "metadata": {},
   "outputs": [],
   "source": [
    "from sklearn import neighbors\n",
    "knn = neighbors.KNeighborsRegressor(n_neighbors=1)\n",
    "knn.fit(X_train, Y_train)\n",
    "\n",
    "predicted = knn.predict(X_test)\n",
    "residual = Y_test - predicted\n",
    "\n",
    "fig = plt.figure(figsize=(30,30))\n",
    "ax1 = plt.subplot(211)\n",
    "sns.distplot(residual, color ='teal')\n",
    "plt.tick_params(axis='both', which='major', labelsize=20)\n",
    "plt.title('Residual counts',fontsize=35)\n",
    "plt.xlabel('Residual',fontsize=25)\n",
    "plt.ylabel('Count',fontsize=25)\n",
    "\n",
    "ax2 = plt.subplot(212)\n",
    "plt.scatter(predicted, residual, color ='teal')\n",
    "plt.tick_params(axis='both', which='major', labelsize=20)\n",
    "plt.xlabel('Predicted',fontsize=25)\n",
    "plt.ylabel('Residual',fontsize=25)\n",
    "plt.axhline(y=0)\n",
    "plt.title('Residual vs. Predicted',fontsize=35)\n",
    "\n",
    "plt.show()\n",
    "\n",
    "from sklearn.metrics import mean_squared_error\n",
    "rmse = np.sqrt(mean_squared_error(Y_test, predicted))\n",
    "print('RMSE:')\n",
    "print(rmse)"
   ]
  },
  {
   "cell_type": "code",
   "execution_count": null,
   "metadata": {},
   "outputs": [],
   "source": [
    "from sklearn.metrics import r2_score\n",
    "print('Variance score: %.2f' % r2_score(Y_test, predicted))"
   ]
  },
  {
   "cell_type": "code",
   "execution_count": null,
   "metadata": {},
   "outputs": [],
   "source": [
    "rmse_l = []\n",
    "num = []\n",
    "for n in range(1, 2):\n",
    "    knn = neighbors.KNeighborsRegressor(n_neighbors=n)\n",
    "    knn.fit(X_train, Y_train)\n",
    "    predicted = knn.predict(X_test)\n",
    "    rmse_l.append(np.sqrt(mean_squared_error(Y_test, predicted)))\n",
    "    num.append(n)"
   ]
  },
  {
   "cell_type": "code",
   "execution_count": null,
   "metadata": {},
   "outputs": [],
   "source": [
    "df_plt = pd.DataFrame()\n",
    "df_plt['rmse'] = rmse_l\n",
    "df_plt['n_neighbors'] = num\n",
    "ax = plt.figure(figsize=(15,7))\n",
    "sns.barplot(data = df_plt, x = 'n_neighbors', y = 'rmse')\n",
    "plt.show()"
   ]
  },
  {
   "cell_type": "code",
   "execution_count": null,
   "metadata": {},
   "outputs": [],
   "source": [
    "from sklearn.tree import DecisionTreeRegressor\n",
    "\n",
    "dtr = DecisionTreeRegressor(max_features='auto')\n",
    "dtr.fit(X_train, Y_train)\n",
    "predicted = dtr.predict(X_test)\n",
    "residual = Y_test - predicted\n",
    "\n",
    "fig = plt.figure(figsize=(30,30))\n",
    "ax1 = plt.subplot(211)\n",
    "sns.distplot(residual, color ='orange')\n",
    "plt.tick_params(axis='both', which='major', labelsize=20)\n",
    "plt.title('Residual counts',fontsize=35)\n",
    "plt.xlabel('Residual',fontsize=25)\n",
    "plt.ylabel('Count',fontsize=25)\n",
    "\n",
    "ax2 = plt.subplot(212)\n",
    "plt.scatter(predicted, residual, color ='orange')\n",
    "plt.tick_params(axis='both', which='major', labelsize=20)\n",
    "plt.xlabel('Predicted',fontsize=25)\n",
    "plt.ylabel('Residual',fontsize=25)\n",
    "plt.axhline(y=0)\n",
    "plt.title('Residual vs. Predicted',fontsize=35)\n",
    "\n",
    "plt.show()\n",
    "\n",
    "from sklearn.metrics import mean_squared_error\n",
    "rmse = np.sqrt(mean_squared_error(Y_test, predicted))\n",
    "print('RMSE:')\n",
    "print(rmse)\n",
    "\n",
    "print('Variance score: %.2f' % r2_score(Y_test, predicted))\n"
   ]
  },
  {
   "cell_type": "code",
   "execution_count": null,
   "metadata": {},
   "outputs": [],
   "source": [
    "from sklearn import linear_model\n",
    "\n",
    "regr = linear_model.LinearRegression()\n",
    "regr.fit(X_train, Y_train)\n",
    "\n",
    "predicted = regr.predict(X_test)\n",
    "residual = Y_test - predicted\n",
    "\n",
    "fig = plt.figure(figsize=(30,30))\n",
    "ax1 = plt.subplot(211)\n",
    "sns.distplot(residual, color ='teal')\n",
    "plt.tick_params(axis='both', which='major', labelsize=20)\n",
    "plt.title('Residual counts',fontsize=35)\n",
    "plt.xlabel('Residual',fontsize=25)\n",
    "plt.ylabel('Count',fontsize=25)\n",
    "\n",
    "ax2 = plt.subplot(212)\n",
    "plt.scatter(predicted, residual, color ='teal')\n",
    "plt.tick_params(axis='both', which='major', labelsize=20)\n",
    "plt.xlabel('Predicted',fontsize=25)\n",
    "plt.ylabel('Residual',fontsize=25)\n",
    "plt.axhline(y=0)\n",
    "plt.title('Residual vs. Predicted',fontsize=35)\n",
    "\n",
    "plt.show()\n",
    "\n",
    "from sklearn.metrics import mean_squared_error\n",
    "rmse = np.sqrt(mean_squared_error(Y_test, predicted))\n",
    "print('RMSE:')\n",
    "print(rmse)\n"
   ]
  },
  {
   "cell_type": "code",
   "execution_count": null,
   "metadata": {},
   "outputs": [],
   "source": [
    "print('Variance score: %.2f' % r2_score(Y_test, predicted))"
   ]
  },
  {
   "cell_type": "code",
   "execution_count": null,
   "metadata": {},
   "outputs": [],
   "source": [
    "from sklearn.ensemble import GradientBoostingRegressor\n",
    "from sklearn.model_selection import cross_val_score\n",
    "\n",
    "r_sq = []\n",
    "deep = []\n",
    "mean_scores = []\n",
    "\n",
    "for n in range(3, 11):\n",
    "    gbr = GradientBoostingRegressor(loss ='ls', max_depth=n)\n",
    "    gbr.fit (X, Y)\n",
    "    deep.append(n)\n",
    "    r_sq.append(gbr.score(X, Y))\n",
    "    mean_scores.append(cross_val_score(gbr, X, Y, cv=2).mean())"
   ]
  },
  {
   "cell_type": "code",
   "execution_count": null,
   "metadata": {},
   "outputs": [],
   "source": [
    "plt_gbr = pd.DataFrame()\n",
    "\n",
    "plt_gbr['mean_scores'] = mean_scores\n",
    "plt_gbr['depth'] = deep\n",
    "plt_gbr['R²'] = r_sq\n",
    "\n",
    "f, ax = plt.subplots(figsize=(15, 5))\n",
    "sns.barplot(data = plt_gbr, x='depth', y='R²')\n",
    "plt.show()\n",
    "\n",
    "f, ax = plt.subplots(figsize=(15, 5))\n",
    "sns.barplot(data = plt_gbr, x='depth', y='mean_scores')\n",
    "plt.show()"
   ]
  },
  {
   "cell_type": "code",
   "execution_count": null,
   "metadata": {},
   "outputs": [],
   "source": [
    "X_test"
   ]
  },
  {
   "cell_type": "code",
   "execution_count": null,
   "metadata": {},
   "outputs": [],
   "source": [
    "from sklearn.ensemble import GradientBoostingRegressor\n",
    "from sklearn.model_selection import cross_val_score\n",
    "\n",
    "gbr = GradientBoostingRegressor(loss ='ls', max_depth=6)\n",
    "gbr.fit (X_train, Y_train)\n",
    "predicted = gbr.predict(X_test)\n",
    "residual = Y_test - predicted\n",
    "\n",
    "fig = plt.figure(figsize=(30,30))\n",
    "ax1 = plt.subplot(211)\n",
    "sns.distplot(residual, color ='teal')\n",
    "plt.tick_params(axis='both', which='major', labelsize=20)\n",
    "plt.title('Residual counts',fontsize=35)\n",
    "plt.xlabel('Residual',fontsize=25)\n",
    "plt.ylabel('Count',fontsize=25)\n",
    "\n",
    "ax2 = plt.subplot(212)\n",
    "plt.scatter(predicted, residual, color ='teal')\n",
    "plt.tick_params(axis='both', which='major', labelsize=20)\n",
    "plt.xlabel('Predicted',fontsize=25)\n",
    "plt.ylabel('Residual',fontsize=25)\n",
    "plt.axhline(y=0)\n",
    "plt.title('Residual vs. Predicted',fontsize=35)\n",
    "\n",
    "plt.show()\n",
    "\n",
    "rmse = np.sqrt(mean_squared_error(Y_test, predicted))\n",
    "scores = cross_val_score(gbr, X, Y, cv=2)\n",
    "\n",
    "print('\\nCross Validation Scores:')\n",
    "print(scores)\n",
    "print('\\nMean Score:')\n",
    "print(scores.mean())\n",
    "print('\\nRMSE:')\n",
    "print(rmse)"
   ]
  },
  {
   "cell_type": "code",
   "execution_count": null,
   "metadata": {},
   "outputs": [],
   "source": [
    "print('Variance score: %.2f' % r2_score(Y_test, predicted))"
   ]
  },
  {
   "cell_type": "code",
   "execution_count": null,
   "metadata": {},
   "outputs": [],
   "source": [
    "A = Y_test.reshape(-1, 1)\n",
    "B = predicted.reshape(-1, 1)"
   ]
  },
  {
   "cell_type": "code",
   "execution_count": null,
   "metadata": {},
   "outputs": [],
   "source": [
    "plt.rcParams['figure.figsize'] = 16,12\n",
    "plt.figure()\n",
    "plt.plot(A[-100:], label=\"Real\")\n",
    "plt.plot(B[-100:], label=\"Predicted\")\n",
    "plt.legend()\n",
    "plt.title(\"Price: real vs predicted\")\n",
    "plt.ylabel(\"Price\")\n",
    "plt.xticks(())\n",
    "plt.show()"
   ]
  },
  {
   "cell_type": "code",
   "execution_count": null,
   "metadata": {},
   "outputs": [],
   "source": [
    "user_input = {'Bedroom':4, 'Bathroom':2, 'SqFt':3000, 'City':'Edmonton Area'}\n",
    "\n",
    "def input_to_one_hot(data):\n",
    "    # initialize the target vector with zero values\n",
    "    enc_input = np.zeros(33)\n",
    "    # set the numerical input as they are\n",
    "    enc_input[0] = data['SqFt']\n",
    "    enc_input[1] = data['Bathroom']\n",
    "    enc_input[2] = data['Bedroom']\n",
    "    \n",
    "    cities = df.City.unique()\n",
    "    \n",
    "    redefinded_user_input = 'City_'+data['City']\n",
    "     \n",
    "    city_column_index = X.columns.tolist().index(redefinded_user_input)\n",
    "    mark_column_index = X.columns.tolist().index(redefinded_user_input)\n",
    "    enc_input[mark_column_index] = 1\n",
    "    \n",
    "    return enc_input\n"
   ]
  },
  {
   "cell_type": "code",
   "execution_count": null,
   "metadata": {},
   "outputs": [],
   "source": [
    "print(input_to_one_hot(user_input))"
   ]
  },
  {
   "cell_type": "code",
   "execution_count": null,
   "metadata": {},
   "outputs": [],
   "source": [
    "a = input_to_one_hot(user_input)\n",
    "finalPrice = gbr.predict([a])\n",
    "print(\"the best price for this specifications is $\", finalPrice)\n"
   ]
  }
 ],
 "metadata": {
  "kernelspec": {
   "display_name": "Python 3.11.5 64-bit",
   "language": "python",
   "name": "python3"
  },
  "language_info": {
   "codemirror_mode": {
    "name": "ipython",
    "version": 3
   },
   "file_extension": ".py",
   "mimetype": "text/x-python",
   "name": "python",
   "nbconvert_exporter": "python",
   "pygments_lexer": "ipython3",
   "version": "3.11.5"
  },
  "orig_nbformat": 4,
  "vscode": {
   "interpreter": {
    "hash": "aee8b7b246df8f9039afb4144a1f6fd8d2ca17a180786b69acc140d282b71a49"
   }
  }
 },
 "nbformat": 4,
 "nbformat_minor": 2
}
